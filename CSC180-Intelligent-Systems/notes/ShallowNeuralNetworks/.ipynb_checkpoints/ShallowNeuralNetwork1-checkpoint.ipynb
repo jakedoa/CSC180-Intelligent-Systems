{
 "cells": [
  {
   "cell_type": "code",
   "execution_count": 3,
   "id": "6241e223",
   "metadata": {},
   "outputs": [],
   "source": [
    "# Imports math library\n",
    "import numpy as np\n",
    "# Imports plotting library\n",
    "import matplotlib.pyplot as plt"
   ]
  },
  {
   "cell_type": "code",
   "execution_count": 4,
   "id": "62b775cb",
   "metadata": {},
   "outputs": [],
   "source": [
    "# Define the Reatified Linear Unit (ReLU) function\n",
    "def ReLU(preactivation):\n",
    "    # TODO: write code to implement the ReLU and compute the activation at the \n",
    "    # hidden unit from the preactivation\n",
    "    # This should work on every element of the ndarray \"preactivation\" at once\n",
    "    # One way to do this is with the ndarray \"clip\" function\n",
    "    # https://numpy.org/doc/stable/reference/generated/numpy.ndarray.clip.html\n",
    "    activation = np.clip(preactivation, a_min=0)\n",
    "    return activation"
   ]
  },
  {
   "cell_type": "code",
   "execution_count": null,
   "id": "dc0f4e57",
   "metadata": {},
   "outputs": [],
   "source": [
    "# Make an array of input\n",
    "z = np.arange(-5, 5, 0.1)\n",
    "RelU_z = ReLU(z)\n",
    "\n",
    "# Plot the ReLU function\n",
    "fig, ax = plt.subplots()\n",
    "ax."
   ]
  }
 ],
 "metadata": {
  "kernelspec": {
   "display_name": "CSC180-Intelligent-Systems",
   "language": "python",
   "name": "csc180-intelligent-systems"
  },
  "language_info": {
   "codemirror_mode": {
    "name": "ipython",
    "version": 3
   },
   "file_extension": ".py",
   "mimetype": "text/x-python",
   "name": "python",
   "nbconvert_exporter": "python",
   "pygments_lexer": "ipython3",
   "version": "3.12.7"
  }
 },
 "nbformat": 4,
 "nbformat_minor": 5
}
